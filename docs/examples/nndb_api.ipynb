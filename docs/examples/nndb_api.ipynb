{
 "cells": [
  {
   "cell_type": "markdown",
   "metadata": {},
   "source": [
    "# Neural Network Database API Intro"
   ]
  },
  {
   "cell_type": "markdown",
   "metadata": {},
   "source": [
    "## Overview"
   ]
  },
  {
   "cell_type": "markdown",
   "metadata": {},
   "source": [
    "This is a quick intro to using the Neural Network Database API. First we will set up an API client and then retrieve all the networks to analyze the relationship between optimizers and loss functions. Then we will look at more fine-grained queries such as retrieving networks used for image generation.\n",
    "\n",
    "Prerequisites:\n",
    "- Python 3.5 or later\n",
    "- The `aughie` and `matplotlib` packages. \n",
    "\n",
    "You can also run this notebook online directly from your browser by following the link to [Google Colab.](https://colab.research.google.com/github/aughie/aughie-py/blob/master/docs/examples/nndb_api.ipynb) \n",
    "\n",
    "As a word of caution, the project is currently in a proof-of-concept phase and the dataset is too small to be representative. With that in mind, let's jump in!"
   ]
  },
  {
   "cell_type": "markdown",
   "metadata": {},
   "source": [
    "## Setting up the client"
   ]
  },
  {
   "cell_type": "markdown",
   "metadata": {},
   "source": [
    "First we install the required packages, then we import them. The `aughie` package contains the neural network database client and we will use  `matplotlib` to make visualizations from the retrieved data.\n"
   ]
  },
  {
   "cell_type": "code",
   "execution_count": 1,
   "metadata": {},
   "outputs": [],
   "source": [
    "# If you run this in Google Colab, there might be warnings about conflicting \n",
    "# versions with their implicit environment, but it can be safely ignored.\n",
    "!pip install aughie matplotlib==2.2.3 > /dev/null"
   ]
  },
  {
   "cell_type": "code",
   "execution_count": 2,
   "metadata": {},
   "outputs": [],
   "source": [
    "from aughie import nndb\n",
    "\n",
    "# Allow matplotlib plots to be displayed in the notebook.\n",
    "%matplotlib inline"
   ]
  },
  {
   "cell_type": "markdown",
   "metadata": {},
   "source": [
    "Next we create a client to communicate with the neural network database API. The client has an in-memory cache so we can rerun cells over and over again without having to make a new request every time."
   ]
  },
  {
   "cell_type": "code",
   "execution_count": 3,
   "metadata": {},
   "outputs": [],
   "source": [
    "client = nndb.ApiClient()"
   ]
  },
  {
   "cell_type": "markdown",
   "metadata": {},
   "source": [
    "## Analyzing optimizers and loss functions"
   ]
  },
  {
   "cell_type": "markdown",
   "metadata": {},
   "source": [
    "Let's retrieve all the networks to see how optimizers and loss functions are related to each other. The API calls return `ApiResult` objects that have methods to present the data in different formats."
   ]
  },
  {
   "cell_type": "code",
   "execution_count": 4,
   "metadata": {},
   "outputs": [
    {
     "name": "stdout",
     "output_type": "stream",
     "text": [
      "There are currently 46 networks in the database.\n",
      "The first two results are printed below:\n"
     ]
    },
    {
     "data": {
      "text/plain": [
       "[{'losses': [{'type': 'mse'}],\n",
       "  'name': 'eriklindernoren/Keras-GAN/lsgan',\n",
       "  'numInputs': 1,\n",
       "  'numLayers': 20,\n",
       "  'numOutputs': 1,\n",
       "  'optimizer': {'hasDecay': False,\n",
       "   'learningRate': 0.00019999999494757503,\n",
       "   'type': 'Adam'}},\n",
       " {'losses': [{'type': 'categorical_crossentropy'}],\n",
       "  'name': 'basveeling/wavenet/wavenet',\n",
       "  'numInputs': 1,\n",
       "  'numLayers': 66,\n",
       "  'numOutputs': 1,\n",
       "  'optimizer': {'hasDecay': False,\n",
       "   'learningRate': 0.0010000000474974513,\n",
       "   'type': 'SGD'}}]"
      ]
     },
     "execution_count": 4,
     "metadata": {},
     "output_type": "execute_result"
    }
   ],
   "source": [
    "networks = client.get_networks()\n",
    "\n",
    "networks_list = networks.to_list()\n",
    "num_networks = len(networks_list)\n",
    "print('There are currently {} networks in the database.'.format(num_networks))\n",
    "print('The first two results are printed below:')\n",
    "networks_list[:2]"
   ]
  },
  {
   "cell_type": "markdown",
   "metadata": {},
   "source": [
    "Let's turn this into a Pandas DataFrame so we can work with the data more easily. We can specify the columns that we want included in the data frame with the `fields` argument. Finally, we display 10 randomly selected rows from the data. "
   ]
  },
  {
   "cell_type": "code",
   "execution_count": 5,
   "metadata": {},
   "outputs": [
    {
     "data": {
      "text/html": [
       "<div>\n",
       "<style scoped>\n",
       "    .dataframe tbody tr th:only-of-type {\n",
       "        vertical-align: middle;\n",
       "    }\n",
       "\n",
       "    .dataframe tbody tr th {\n",
       "        vertical-align: top;\n",
       "    }\n",
       "\n",
       "    .dataframe thead th {\n",
       "        text-align: right;\n",
       "    }\n",
       "</style>\n",
       "<table border=\"1\" class=\"dataframe\">\n",
       "  <thead>\n",
       "    <tr style=\"text-align: right;\">\n",
       "      <th></th>\n",
       "      <th>name</th>\n",
       "      <th>numLayers</th>\n",
       "      <th>optimizer</th>\n",
       "      <th>learningRate</th>\n",
       "      <th>loss</th>\n",
       "    </tr>\n",
       "  </thead>\n",
       "  <tbody>\n",
       "    <tr>\n",
       "      <th>26</th>\n",
       "      <td>farizrahman4u/seq2seq/AdvancedSeq2Seq</td>\n",
       "      <td>8</td>\n",
       "      <td>RMSprop</td>\n",
       "      <td>0.0010</td>\n",
       "      <td>mse</td>\n",
       "    </tr>\n",
       "    <tr>\n",
       "      <th>29</th>\n",
       "      <td>farizrahman4u/seq2seq/PeakySeq2Seq</td>\n",
       "      <td>8</td>\n",
       "      <td>RMSprop</td>\n",
       "      <td>0.0010</td>\n",
       "      <td>mse</td>\n",
       "    </tr>\n",
       "    <tr>\n",
       "      <th>31</th>\n",
       "      <td>farizrahman4u/seq2seq/DeepSeq2Seq_v2</td>\n",
       "      <td>21</td>\n",
       "      <td>RMSprop</td>\n",
       "      <td>0.0010</td>\n",
       "      <td>mse</td>\n",
       "    </tr>\n",
       "    <tr>\n",
       "      <th>33</th>\n",
       "      <td>keras-team/keras-applications/NASNet</td>\n",
       "      <td>751</td>\n",
       "      <td>NaN</td>\n",
       "      <td>NaN</td>\n",
       "      <td>NaN</td>\n",
       "    </tr>\n",
       "    <tr>\n",
       "      <th>34</th>\n",
       "      <td>keras-team/keras-applications/xception</td>\n",
       "      <td>134</td>\n",
       "      <td>NaN</td>\n",
       "      <td>NaN</td>\n",
       "      <td>NaN</td>\n",
       "    </tr>\n",
       "    <tr>\n",
       "      <th>40</th>\n",
       "      <td>keras-rl/keras-rl/naf_pendulum_l_model</td>\n",
       "      <td>12</td>\n",
       "      <td>NaN</td>\n",
       "      <td>NaN</td>\n",
       "      <td>NaN</td>\n",
       "    </tr>\n",
       "    <tr>\n",
       "      <th>43</th>\n",
       "      <td>keras-rl/keras-rl/sarsa_cartpole</td>\n",
       "      <td>9</td>\n",
       "      <td>NaN</td>\n",
       "      <td>NaN</td>\n",
       "      <td>NaN</td>\n",
       "    </tr>\n",
       "    <tr>\n",
       "      <th>45</th>\n",
       "      <td>keras-rl/keras-rl/ddpg_pendulum_actor</td>\n",
       "      <td>9</td>\n",
       "      <td>SGD</td>\n",
       "      <td>0.0100</td>\n",
       "      <td>mse</td>\n",
       "    </tr>\n",
       "    <tr>\n",
       "      <th>61</th>\n",
       "      <td>eriklindernoren/Keras-GAN/ccgan</td>\n",
       "      <td>39</td>\n",
       "      <td>Adam</td>\n",
       "      <td>0.0002</td>\n",
       "      <td>mse</td>\n",
       "    </tr>\n",
       "    <tr>\n",
       "      <th>62</th>\n",
       "      <td>eriklindernoren/Keras-GAN/cgan</td>\n",
       "      <td>33</td>\n",
       "      <td>Adam</td>\n",
       "      <td>0.0002</td>\n",
       "      <td>binary_crossentropy</td>\n",
       "    </tr>\n",
       "  </tbody>\n",
       "</table>\n",
       "</div>"
      ],
      "text/plain": [
       "                                      name  numLayers optimizer  learningRate  \\\n",
       "26   farizrahman4u/seq2seq/AdvancedSeq2Seq          8   RMSprop        0.0010   \n",
       "29      farizrahman4u/seq2seq/PeakySeq2Seq          8   RMSprop        0.0010   \n",
       "31    farizrahman4u/seq2seq/DeepSeq2Seq_v2         21   RMSprop        0.0010   \n",
       "33    keras-team/keras-applications/NASNet        751       NaN           NaN   \n",
       "34  keras-team/keras-applications/xception        134       NaN           NaN   \n",
       "40  keras-rl/keras-rl/naf_pendulum_l_model         12       NaN           NaN   \n",
       "43        keras-rl/keras-rl/sarsa_cartpole          9       NaN           NaN   \n",
       "45   keras-rl/keras-rl/ddpg_pendulum_actor          9       SGD        0.0100   \n",
       "61         eriklindernoren/Keras-GAN/ccgan         39      Adam        0.0002   \n",
       "62          eriklindernoren/Keras-GAN/cgan         33      Adam        0.0002   \n",
       "\n",
       "                   loss  \n",
       "26                  mse  \n",
       "29                  mse  \n",
       "31                  mse  \n",
       "33                  NaN  \n",
       "34                  NaN  \n",
       "40                  NaN  \n",
       "43                  NaN  \n",
       "45                  mse  \n",
       "61                  mse  \n",
       "62  binary_crossentropy  "
      ]
     },
     "execution_count": 5,
     "metadata": {},
     "output_type": "execute_result"
    }
   ],
   "source": [
    "fields = ['name', 'numLayers', 'optimizer', 'learningRate', 'loss']\n",
    "df = networks.to_data_frame(fields=fields)\n",
    "df.sample(10, random_state=0).sort_index()"
   ]
  },
  {
   "cell_type": "markdown",
   "metadata": {},
   "source": [
    "The `name` of a network is made up of three parts: the Github user name of the author, the Github repo name and a descriptive name for the network. The `NaN` values indicate missing data."
   ]
  },
  {
   "cell_type": "markdown",
   "metadata": {},
   "source": [
    "Let's see what optimizers are used with different losses and their relative frequencies:"
   ]
  },
  {
   "cell_type": "code",
   "execution_count": 6,
   "metadata": {},
   "outputs": [
    {
     "data": {
      "text/plain": [
       "loss                             optimizer\n",
       "MultiboxLoss                     Adam         1.000000\n",
       "binary_crossentropy              Adam         1.000000\n",
       "categorical_crossentropy         Adam         0.500000\n",
       "                                 SGD          0.500000\n",
       "mae                              Adam         1.000000\n",
       "mse                              Adam         0.500000\n",
       "                                 RMSprop      0.272727\n",
       "                                 SGD          0.227273\n",
       "sparse_categorical_crossentropy  Adam         1.000000\n",
       "Name: optimizer, dtype: float64"
      ]
     },
     "execution_count": 6,
     "metadata": {},
     "output_type": "execute_result"
    }
   ],
   "source": [
    "df.groupby('loss')['optimizer'].value_counts(True)"
   ]
  },
  {
   "cell_type": "markdown",
   "metadata": {},
   "source": [
    "What are the typical learning rates for the different optimizers?"
   ]
  },
  {
   "cell_type": "code",
   "execution_count": 7,
   "metadata": {
    "scrolled": true
   },
   "outputs": [
    {
     "data": {
      "text/plain": [
       "<matplotlib.axes._subplots.AxesSubplot at 0x7fed60061630>"
      ]
     },
     "execution_count": 7,
     "metadata": {},
     "output_type": "execute_result"
    },
    {
     "data": {
      "image/png": "[encoded data removed]",
      "text/plain": [
       "<Figure size 432x288 with 1 Axes>"
      ]
     },
     "metadata": {
      "needs_background": "light"
     },
     "output_type": "display_data"
    }
   ],
   "source": [
    "# pandas is a dependency of aughie, so we don't have to install it separately.\n",
    "import pandas as pd\n",
    "df.groupby('optimizer')['learningRate'].agg(pd.Series.mode).plot.bar()"
   ]
  },
  {
   "cell_type": "markdown",
   "metadata": {},
   "source": [
    "## Applying multiple filters"
   ]
  },
  {
   "cell_type": "markdown",
   "metadata": {},
   "source": [
    "Now let's get a little more specific. What if we were interested in networks used for image generation? These will likely contain both `Conv2D` and `UpSampling2D` layers, so let's make a query looking for networks that have these two types of layers. "
   ]
  },
  {
   "cell_type": "code",
   "execution_count": 8,
   "metadata": {},
   "outputs": [
    {
     "data": {
      "text/html": [
       "<div>\n",
       "<style scoped>\n",
       "    .dataframe tbody tr th:only-of-type {\n",
       "        vertical-align: middle;\n",
       "    }\n",
       "\n",
       "    .dataframe tbody tr th {\n",
       "        vertical-align: top;\n",
       "    }\n",
       "\n",
       "    .dataframe thead th {\n",
       "        text-align: right;\n",
       "    }\n",
       "</style>\n",
       "<table border=\"1\" class=\"dataframe\">\n",
       "  <thead>\n",
       "    <tr style=\"text-align: right;\">\n",
       "      <th></th>\n",
       "      <th>name</th>\n",
       "      <th>numLayers</th>\n",
       "      <th>numOutputs</th>\n",
       "      <th>optimizer</th>\n",
       "      <th>learningRate</th>\n",
       "      <th>loss</th>\n",
       "    </tr>\n",
       "  </thead>\n",
       "  <tbody>\n",
       "    <tr>\n",
       "      <th>0</th>\n",
       "      <td>eriklindernoren/Keras-GAN/discogan</td>\n",
       "      <td>122</td>\n",
       "      <td>6</td>\n",
       "      <td>Adam</td>\n",
       "      <td>0.0002</td>\n",
       "      <td>mae</td>\n",
       "    </tr>\n",
       "    <tr>\n",
       "      <th>1</th>\n",
       "      <td>eriklindernoren/Keras-GAN/discogan</td>\n",
       "      <td>122</td>\n",
       "      <td>6</td>\n",
       "      <td>Adam</td>\n",
       "      <td>0.0002</td>\n",
       "      <td>mae</td>\n",
       "    </tr>\n",
       "    <tr>\n",
       "      <th>2</th>\n",
       "      <td>eriklindernoren/Keras-GAN/discogan</td>\n",
       "      <td>122</td>\n",
       "      <td>6</td>\n",
       "      <td>Adam</td>\n",
       "      <td>0.0002</td>\n",
       "      <td>mae</td>\n",
       "    </tr>\n",
       "    <tr>\n",
       "      <th>3</th>\n",
       "      <td>eriklindernoren/Keras-GAN/discogan</td>\n",
       "      <td>122</td>\n",
       "      <td>6</td>\n",
       "      <td>Adam</td>\n",
       "      <td>0.0002</td>\n",
       "      <td>mse</td>\n",
       "    </tr>\n",
       "    <tr>\n",
       "      <th>4</th>\n",
       "      <td>eriklindernoren/Keras-GAN/discogan</td>\n",
       "      <td>122</td>\n",
       "      <td>6</td>\n",
       "      <td>Adam</td>\n",
       "      <td>0.0002</td>\n",
       "      <td>mse</td>\n",
       "    </tr>\n",
       "    <tr>\n",
       "      <th>5</th>\n",
       "      <td>eriklindernoren/Keras-GAN/discogan</td>\n",
       "      <td>122</td>\n",
       "      <td>6</td>\n",
       "      <td>Adam</td>\n",
       "      <td>0.0002</td>\n",
       "      <td>mae</td>\n",
       "    </tr>\n",
       "    <tr>\n",
       "      <th>6</th>\n",
       "      <td>eriklindernoren/Keras-GAN/context_encoder</td>\n",
       "      <td>36</td>\n",
       "      <td>2</td>\n",
       "      <td>Adam</td>\n",
       "      <td>0.0002</td>\n",
       "      <td>mse</td>\n",
       "    </tr>\n",
       "    <tr>\n",
       "      <th>7</th>\n",
       "      <td>eriklindernoren/Keras-GAN/context_encoder</td>\n",
       "      <td>36</td>\n",
       "      <td>2</td>\n",
       "      <td>Adam</td>\n",
       "      <td>0.0002</td>\n",
       "      <td>binary_crossentropy</td>\n",
       "    </tr>\n",
       "    <tr>\n",
       "      <th>8</th>\n",
       "      <td>eriklindernoren/Keras-GAN/dcgan</td>\n",
       "      <td>33</td>\n",
       "      <td>1</td>\n",
       "      <td>Adam</td>\n",
       "      <td>0.0002</td>\n",
       "      <td>binary_crossentropy</td>\n",
       "    </tr>\n",
       "    <tr>\n",
       "      <th>9</th>\n",
       "      <td>eriklindernoren/Keras-GAN/pix2pix</td>\n",
       "      <td>63</td>\n",
       "      <td>2</td>\n",
       "      <td>Adam</td>\n",
       "      <td>0.0002</td>\n",
       "      <td>mse</td>\n",
       "    </tr>\n",
       "    <tr>\n",
       "      <th>10</th>\n",
       "      <td>eriklindernoren/Keras-GAN/pix2pix</td>\n",
       "      <td>63</td>\n",
       "      <td>2</td>\n",
       "      <td>Adam</td>\n",
       "      <td>0.0002</td>\n",
       "      <td>mae</td>\n",
       "    </tr>\n",
       "    <tr>\n",
       "      <th>11</th>\n",
       "      <td>eriklindernoren/Keras-GAN/acgan</td>\n",
       "      <td>39</td>\n",
       "      <td>4</td>\n",
       "      <td>Adam</td>\n",
       "      <td>0.0002</td>\n",
       "      <td>binary_crossentropy</td>\n",
       "    </tr>\n",
       "    <tr>\n",
       "      <th>12</th>\n",
       "      <td>eriklindernoren/Keras-GAN/acgan</td>\n",
       "      <td>39</td>\n",
       "      <td>4</td>\n",
       "      <td>Adam</td>\n",
       "      <td>0.0002</td>\n",
       "      <td>sparse_categorical_crossentropy</td>\n",
       "    </tr>\n",
       "    <tr>\n",
       "      <th>13</th>\n",
       "      <td>eriklindernoren/Keras-GAN/srgan</td>\n",
       "      <td>164</td>\n",
       "      <td>2</td>\n",
       "      <td>Adam</td>\n",
       "      <td>0.0002</td>\n",
       "      <td>binary_crossentropy</td>\n",
       "    </tr>\n",
       "    <tr>\n",
       "      <th>14</th>\n",
       "      <td>eriklindernoren/Keras-GAN/srgan</td>\n",
       "      <td>164</td>\n",
       "      <td>2</td>\n",
       "      <td>Adam</td>\n",
       "      <td>0.0002</td>\n",
       "      <td>mse</td>\n",
       "    </tr>\n",
       "    <tr>\n",
       "      <th>15</th>\n",
       "      <td>zhixuhao/unet/unet</td>\n",
       "      <td>39</td>\n",
       "      <td>1</td>\n",
       "      <td>Adam</td>\n",
       "      <td>0.0001</td>\n",
       "      <td>binary_crossentropy</td>\n",
       "    </tr>\n",
       "    <tr>\n",
       "      <th>16</th>\n",
       "      <td>eriklindernoren/Keras-GAN/sgan</td>\n",
       "      <td>34</td>\n",
       "      <td>2</td>\n",
       "      <td>Adam</td>\n",
       "      <td>0.0002</td>\n",
       "      <td>binary_crossentropy</td>\n",
       "    </tr>\n",
       "    <tr>\n",
       "      <th>17</th>\n",
       "      <td>eriklindernoren/Keras-GAN/cyclegan</td>\n",
       "      <td>82</td>\n",
       "      <td>6</td>\n",
       "      <td>Adam</td>\n",
       "      <td>0.0002</td>\n",
       "      <td>mse</td>\n",
       "    </tr>\n",
       "    <tr>\n",
       "      <th>18</th>\n",
       "      <td>eriklindernoren/Keras-GAN/cyclegan</td>\n",
       "      <td>82</td>\n",
       "      <td>6</td>\n",
       "      <td>Adam</td>\n",
       "      <td>0.0002</td>\n",
       "      <td>mse</td>\n",
       "    </tr>\n",
       "    <tr>\n",
       "      <th>19</th>\n",
       "      <td>eriklindernoren/Keras-GAN/cyclegan</td>\n",
       "      <td>82</td>\n",
       "      <td>6</td>\n",
       "      <td>Adam</td>\n",
       "      <td>0.0002</td>\n",
       "      <td>mae</td>\n",
       "    </tr>\n",
       "    <tr>\n",
       "      <th>20</th>\n",
       "      <td>eriklindernoren/Keras-GAN/cyclegan</td>\n",
       "      <td>82</td>\n",
       "      <td>6</td>\n",
       "      <td>Adam</td>\n",
       "      <td>0.0002</td>\n",
       "      <td>mae</td>\n",
       "    </tr>\n",
       "    <tr>\n",
       "      <th>21</th>\n",
       "      <td>eriklindernoren/Keras-GAN/cyclegan</td>\n",
       "      <td>82</td>\n",
       "      <td>6</td>\n",
       "      <td>Adam</td>\n",
       "      <td>0.0002</td>\n",
       "      <td>mae</td>\n",
       "    </tr>\n",
       "    <tr>\n",
       "      <th>22</th>\n",
       "      <td>eriklindernoren/Keras-GAN/cyclegan</td>\n",
       "      <td>82</td>\n",
       "      <td>6</td>\n",
       "      <td>Adam</td>\n",
       "      <td>0.0002</td>\n",
       "      <td>mae</td>\n",
       "    </tr>\n",
       "    <tr>\n",
       "      <th>23</th>\n",
       "      <td>eriklindernoren/Keras-GAN/ccgan</td>\n",
       "      <td>39</td>\n",
       "      <td>2</td>\n",
       "      <td>Adam</td>\n",
       "      <td>0.0002</td>\n",
       "      <td>mse</td>\n",
       "    </tr>\n",
       "  </tbody>\n",
       "</table>\n",
       "</div>"
      ],
      "text/plain": [
       "                                         name  numLayers  numOutputs  \\\n",
       "0          eriklindernoren/Keras-GAN/discogan        122           6   \n",
       "1          eriklindernoren/Keras-GAN/discogan        122           6   \n",
       "2          eriklindernoren/Keras-GAN/discogan        122           6   \n",
       "3          eriklindernoren/Keras-GAN/discogan        122           6   \n",
       "4          eriklindernoren/Keras-GAN/discogan        122           6   \n",
       "5          eriklindernoren/Keras-GAN/discogan        122           6   \n",
       "6   eriklindernoren/Keras-GAN/context_encoder         36           2   \n",
       "7   eriklindernoren/Keras-GAN/context_encoder         36           2   \n",
       "8             eriklindernoren/Keras-GAN/dcgan         33           1   \n",
       "9           eriklindernoren/Keras-GAN/pix2pix         63           2   \n",
       "10          eriklindernoren/Keras-GAN/pix2pix         63           2   \n",
       "11            eriklindernoren/Keras-GAN/acgan         39           4   \n",
       "12            eriklindernoren/Keras-GAN/acgan         39           4   \n",
       "13            eriklindernoren/Keras-GAN/srgan        164           2   \n",
       "14            eriklindernoren/Keras-GAN/srgan        164           2   \n",
       "15                         zhixuhao/unet/unet         39           1   \n",
       "16             eriklindernoren/Keras-GAN/sgan         34           2   \n",
       "17         eriklindernoren/Keras-GAN/cyclegan         82           6   \n",
       "18         eriklindernoren/Keras-GAN/cyclegan         82           6   \n",
       "19         eriklindernoren/Keras-GAN/cyclegan         82           6   \n",
       "20         eriklindernoren/Keras-GAN/cyclegan         82           6   \n",
       "21         eriklindernoren/Keras-GAN/cyclegan         82           6   \n",
       "22         eriklindernoren/Keras-GAN/cyclegan         82           6   \n",
       "23            eriklindernoren/Keras-GAN/ccgan         39           2   \n",
       "\n",
       "   optimizer  learningRate                             loss  \n",
       "0       Adam        0.0002                              mae  \n",
       "1       Adam        0.0002                              mae  \n",
       "2       Adam        0.0002                              mae  \n",
       "3       Adam        0.0002                              mse  \n",
       "4       Adam        0.0002                              mse  \n",
       "5       Adam        0.0002                              mae  \n",
       "6       Adam        0.0002                              mse  \n",
       "7       Adam        0.0002              binary_crossentropy  \n",
       "8       Adam        0.0002              binary_crossentropy  \n",
       "9       Adam        0.0002                              mse  \n",
       "10      Adam        0.0002                              mae  \n",
       "11      Adam        0.0002              binary_crossentropy  \n",
       "12      Adam        0.0002  sparse_categorical_crossentropy  \n",
       "13      Adam        0.0002              binary_crossentropy  \n",
       "14      Adam        0.0002                              mse  \n",
       "15      Adam        0.0001              binary_crossentropy  \n",
       "16      Adam        0.0002              binary_crossentropy  \n",
       "17      Adam        0.0002                              mse  \n",
       "18      Adam        0.0002                              mse  \n",
       "19      Adam        0.0002                              mae  \n",
       "20      Adam        0.0002                              mae  \n",
       "21      Adam        0.0002                              mae  \n",
       "22      Adam        0.0002                              mae  \n",
       "23      Adam        0.0002                              mse  "
      ]
     },
     "execution_count": 8,
     "metadata": {},
     "output_type": "execute_result"
    }
   ],
   "source": [
    "layers = [{'type': 'Conv2D'}, {'type': 'UpSampling2D'}]\n",
    "gen_networks = client.get_networks(layers=layers)\n",
    "fields = ['name', 'numLayers', 'numOutputs', 'optimizer', 'learningRate', 'loss']\n",
    "gen_networks.to_data_frame(fields=fields)"
   ]
  },
  {
   "cell_type": "markdown",
   "metadata": {},
   "source": [
    "If a network has multiple loss functions, it will be added in multiple rows. For the GAN networks, the combined models are included in the dataset, that's why they have so many outputs."
   ]
  },
  {
   "cell_type": "markdown",
   "metadata": {},
   "source": [
    "We can build even more complex queries by combining different filters. The following query will return networks that\n",
    "* have a minimum of 100 layers and 2 outputs and\n",
    "* use binary or categorical cross entropy loss and\n",
    "* have at least one Conv2D layer with a tanh activation and at least one MaxPooling2D layer."
   ]
  },
  {
   "cell_type": "code",
   "execution_count": 9,
   "metadata": {},
   "outputs": [
    {
     "data": {
      "text/html": [
       "<div>\n",
       "<style scoped>\n",
       "    .dataframe tbody tr th:only-of-type {\n",
       "        vertical-align: middle;\n",
       "    }\n",
       "\n",
       "    .dataframe tbody tr th {\n",
       "        vertical-align: top;\n",
       "    }\n",
       "\n",
       "    .dataframe thead th {\n",
       "        text-align: right;\n",
       "    }\n",
       "</style>\n",
       "<table border=\"1\" class=\"dataframe\">\n",
       "  <thead>\n",
       "    <tr style=\"text-align: right;\">\n",
       "      <th></th>\n",
       "      <th>name</th>\n",
       "      <th>numLayers</th>\n",
       "      <th>numOutputs</th>\n",
       "      <th>optimizer</th>\n",
       "      <th>learningRate</th>\n",
       "      <th>loss</th>\n",
       "    </tr>\n",
       "  </thead>\n",
       "  <tbody>\n",
       "    <tr>\n",
       "      <th>0</th>\n",
       "      <td>eriklindernoren/Keras-GAN/srgan</td>\n",
       "      <td>164</td>\n",
       "      <td>2</td>\n",
       "      <td>Adam</td>\n",
       "      <td>0.0002</td>\n",
       "      <td>binary_crossentropy</td>\n",
       "    </tr>\n",
       "    <tr>\n",
       "      <th>1</th>\n",
       "      <td>eriklindernoren/Keras-GAN/srgan</td>\n",
       "      <td>164</td>\n",
       "      <td>2</td>\n",
       "      <td>Adam</td>\n",
       "      <td>0.0002</td>\n",
       "      <td>mse</td>\n",
       "    </tr>\n",
       "  </tbody>\n",
       "</table>\n",
       "</div>"
      ],
      "text/plain": [
       "                              name  numLayers  numOutputs optimizer  \\\n",
       "0  eriklindernoren/Keras-GAN/srgan        164           2      Adam   \n",
       "1  eriklindernoren/Keras-GAN/srgan        164           2      Adam   \n",
       "\n",
       "   learningRate                 loss  \n",
       "0        0.0002  binary_crossentropy  \n",
       "1        0.0002                  mse  "
      ]
     },
     "execution_count": 9,
     "metadata": {},
     "output_type": "execute_result"
    }
   ],
   "source": [
    "networks = client.get_networks(network={'minNumLayers': 100, 'minNumOutputs': 2},\n",
    "                               losses=[{'type': 'binary_crossentropy'},\n",
    "                                       {'type': 'categorical_crossentropy'}],\n",
    "                               layers=[{'type': 'Conv2D', 'activation': 'tanh'},\n",
    "                                       {'type': 'MaxPooling2D'}])\n",
    "fields = ['name', 'numLayers', 'numOutputs', 'optimizer', 'learningRate', 'loss']\n",
    "networks.to_data_frame(fields=fields)"
   ]
  },
  {
   "cell_type": "markdown",
   "metadata": {},
   "source": [
    "## Next steps"
   ]
  },
  {
   "cell_type": "markdown",
   "metadata": {},
   "source": [
    "Check out the [documentation](https://aughie-py.readthedocs.io) or open an issue in the [aughie-py repository](https://github.com/aughie/aughie-py) to provide feedback."
   ]
  }
 ],
 "metadata": {
  "kernelspec": {
   "display_name": "Python 3",
   "language": "python",
   "name": "python3"
  },
  "language_info": {
   "codemirror_mode": {
    "name": "ipython",
    "version": 3
   },
   "file_extension": ".py",
   "mimetype": "text/x-python",
   "name": "python",
   "nbconvert_exporter": "python",
   "pygments_lexer": "ipython3",
   "version": "3.6.6"
  }
 },
 "nbformat": 4,
 "nbformat_minor": 1
}
